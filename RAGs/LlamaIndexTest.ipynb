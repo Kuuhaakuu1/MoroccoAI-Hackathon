{
 "cells": [
  {
   "cell_type": "markdown",
   "metadata": {},
   "source": [
    "# LlamaIndex Familiarisation"
   ]
  },
  {
   "cell_type": "markdown",
   "metadata": {},
   "source": [
    "### Imports and config"
   ]
  },
  {
   "cell_type": "code",
   "execution_count": null,
   "metadata": {},
   "outputs": [
    {
     "ename": "AttributeError",
     "evalue": "module 'llama_index' has no attribute 'global_service_context'",
     "output_type": "error",
     "traceback": [
      "\u001b[1;31m---------------------------------------------------------------------------\u001b[0m\n",
      "\u001b[1;31mAttributeError\u001b[0m                            Traceback (most recent call last)\n",
      "\u001b[1;32md:\\MoroccanAI\\Hackathon1\\RAGs\\LlamaIndexTest.ipynb Cell 3\u001b[0m line \u001b[0;36m5\n",
      "\u001b[0;32m      <a href='vscode-notebook-cell:/d%3A/MoroccanAI/Hackathon1/RAGs/LlamaIndexTest.ipynb#W5sZmlsZQ%3D%3D?line=1'>2</a>\u001b[0m \u001b[39mfrom\u001b[39;00m \u001b[39mllama_index\u001b[39;00m \u001b[39mimport\u001b[39;00m VectorStoreIndex, SimpleDirectoryReader\n",
      "\u001b[0;32m      <a href='vscode-notebook-cell:/d%3A/MoroccanAI/Hackathon1/RAGs/LlamaIndexTest.ipynb#W5sZmlsZQ%3D%3D?line=3'>4</a>\u001b[0m documents \u001b[39m=\u001b[39m SimpleDirectoryReader(\u001b[39m\"\u001b[39m\u001b[39mdata\u001b[39m\u001b[39m\"\u001b[39m)\u001b[39m.\u001b[39mload_data()\n",
      "\u001b[1;32m----> <a href='vscode-notebook-cell:/d%3A/MoroccanAI/Hackathon1/RAGs/LlamaIndexTest.ipynb#W5sZmlsZQ%3D%3D?line=4'>5</a>\u001b[0m index \u001b[39m=\u001b[39m VectorStoreIndex\u001b[39m.\u001b[39mfrom_documents(documents)\n",
      "\n",
      "File \u001b[1;32md:\\Anaconda\\Lib\\site-packages\\llama_index\\indices\\base.py:92\u001b[0m, in \u001b[0;36mBaseIndex.from_documents\u001b[1;34m(cls, documents, storage_context, service_context, show_progress, **kwargs)\u001b[0m\n",
      "\u001b[0;32m     84\u001b[0m \u001b[39m\u001b[39m\u001b[39m\"\"\"Create index from documents.\u001b[39;00m\n",
      "\u001b[0;32m     85\u001b[0m \n",
      "\u001b[0;32m     86\u001b[0m \u001b[39mArgs:\u001b[39;00m\n",
      "\u001b[1;32m   (...)\u001b[0m\n",
      "\u001b[0;32m     89\u001b[0m \n",
      "\u001b[0;32m     90\u001b[0m \u001b[39m\"\"\"\u001b[39;00m\n",
      "\u001b[0;32m     91\u001b[0m storage_context \u001b[39m=\u001b[39m storage_context \u001b[39mor\u001b[39;00m StorageContext\u001b[39m.\u001b[39mfrom_defaults()\n",
      "\u001b[1;32m---> 92\u001b[0m service_context \u001b[39m=\u001b[39m service_context \u001b[39mor\u001b[39;00m ServiceContext\u001b[39m.\u001b[39mfrom_defaults()\n",
      "\u001b[0;32m     93\u001b[0m docstore \u001b[39m=\u001b[39m storage_context\u001b[39m.\u001b[39mdocstore\n",
      "\u001b[0;32m     95\u001b[0m \u001b[39mwith\u001b[39;00m service_context\u001b[39m.\u001b[39mcallback_manager\u001b[39m.\u001b[39mas_trace(\u001b[39m\"\u001b[39m\u001b[39mindex_construction\u001b[39m\u001b[39m\"\u001b[39m):\n",
      "\n",
      "File \u001b[1;32md:\\Anaconda\\Lib\\site-packages\\llama_index\\service_context.py:141\u001b[0m, in \u001b[0;36mServiceContext.from_defaults\u001b[1;34m(cls, llm_predictor, llm, prompt_helper, embed_model, node_parser, text_splitter, transformations, llama_logger, callback_manager, system_prompt, query_wrapper_prompt, pydantic_program_mode, chunk_size, chunk_overlap, context_window, num_output, chunk_size_limit)\u001b[0m\n",
      "\u001b[0;32m    136\u001b[0m     logger\u001b[39m.\u001b[39mwarning(\n",
      "\u001b[0;32m    137\u001b[0m         \u001b[39m\"\u001b[39m\u001b[39mchunk_size_limit is deprecated, please specify chunk_size instead\u001b[39m\u001b[39m\"\u001b[39m\n",
      "\u001b[0;32m    138\u001b[0m     )\n",
      "\u001b[0;32m    139\u001b[0m     chunk_size \u001b[39m=\u001b[39m chunk_size_limit\n",
      "\u001b[1;32m--> 141\u001b[0m \u001b[39mif\u001b[39;00m llama_index\u001b[39m.\u001b[39mglobal_service_context \u001b[39mis\u001b[39;00m \u001b[39mnot\u001b[39;00m \u001b[39mNone\u001b[39;00m:\n",
      "\u001b[0;32m    142\u001b[0m     \u001b[39mreturn\u001b[39;00m \u001b[39mcls\u001b[39m\u001b[39m.\u001b[39mfrom_service_context(\n",
      "\u001b[0;32m    143\u001b[0m         llama_index\u001b[39m.\u001b[39mglobal_service_context,\n",
      "\u001b[0;32m    144\u001b[0m         llm\u001b[39m=\u001b[39mllm,\n",
      "\u001b[1;32m   (...)\u001b[0m\n",
      "\u001b[0;32m    159\u001b[0m         transformations\u001b[39m=\u001b[39mtransformations,\n",
      "\u001b[0;32m    160\u001b[0m     )\n",
      "\u001b[0;32m    162\u001b[0m callback_manager \u001b[39m=\u001b[39m callback_manager \u001b[39mor\u001b[39;00m CallbackManager([])\n",
      "\n",
      "\u001b[1;31mAttributeError\u001b[0m: module 'llama_index' has no attribute 'global_service_context'"
     ]
    }
   ],
   "source": [
    "# pip install llama-index \n",
    "from llama_index import VectorStoreIndex, SimpleDirectoryReader\n",
    "\n",
    "documents = SimpleDirectoryReader(\"data\").load_data()\n",
    "index = VectorStoreIndex.from_documents(documents)"
   ]
  }
 ],
 "metadata": {
  "kernelspec": {
   "display_name": "Python 3",
   "language": "python",
   "name": "python3"
  },
  "language_info": {
   "codemirror_mode": {
    "name": "ipython",
    "version": 3
   },
   "file_extension": ".py",
   "mimetype": "text/x-python",
   "name": "python",
   "nbconvert_exporter": "python",
   "pygments_lexer": "ipython3",
   "version": "3.11.5"
  }
 },
 "nbformat": 4,
 "nbformat_minor": 2
}
