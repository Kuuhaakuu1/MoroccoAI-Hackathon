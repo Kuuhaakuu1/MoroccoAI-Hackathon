{
 "cells": [
  {
   "cell_type": "code",
   "execution_count": 1,
   "metadata": {},
   "outputs": [
    {
     "name": "stdout",
     "output_type": "stream",
     "text": [
      "طلب الايجار, بالنسبة للجمعيات: نسخة من القانون الأساسي للجمعية, نسخة من محضر الجمع العام التأسيسي, وصل إيداع القانون الأساسي لدى السلطات المحلية, قائمة أعضاء المكتب وقائمة المنخرطين, بالنسبة لتعاونيات الصيد: نسخة من القانون الأساسي, نسخة من القانون الداخلي للتعاونية, نسخة من الـتسـجيــل فــي الســجـل المحلي للتعاونيات, نسخة من محضر الجمع العام التأسيسي الأخير, قائمة أعضاء المكتب وقائمة المنخرطين, بالنسبة لشركات الصيد: نسخة من القانون الأساسي للشركة (يجب أن يكون موضوع الشركة يخص ممارسة الصيد أو تربية الأحياء المائية أو نشاط مماثل), شهادة القيد في السجل التجاري, شهادة منذ أقل من سنة من طرف اﻟصندوق اﻟوطﻧﻲ ﻟﻟﺿﻣﺎن اﻻﺟﺗﻣﺎﻋﻲ تثبت أن المنافس ﻳﻮﺟﺪ ﻓﻲ وﺿﻌﻴﺔ ﻗﺎﻧﻮﻧﻴﺔ اﺗﺠﺎﻩ هﺬا اﻟﺼﻨﺪوق, شهادة منذ أقل من سنة من طرف القابض في محل فرض الضريبة تثبت أن المنافس ﻳﻮﺟﺪ في وضعية جبائية قانونية, وصل الإيداع للضمان المؤقت\n"
     ]
    }
   ],
   "source": [
    "import os.path\n",
    "import os\n",
    "os.environ[\"OPENAI_API_KEY\"] = os.getenv('OPENAI_API_KEY')\n",
    "from llama_index import (\n",
    "    VectorStoreIndex,\n",
    "    SimpleDirectoryReader,\n",
    "    StorageContext,\n",
    "    load_index_from_storage,\n",
    ")\n",
    "path = \"المقاولة والأعمال\\الصفقات العمومية\"\n",
    "\n",
    "# check if storage already exists\n",
    "if not os.path.exists(\"./storage\"):\n",
    "    # load the documents and create the index\n",
    "    documents = SimpleDirectoryReader(path).load_data()\n",
    "    index = VectorStoreIndex.from_documents(documents)\n",
    "    # store it for later\n",
    "    index.storage_context.persist()\n",
    "else:\n",
    "    # load the existing index\n",
    "    storage_context = StorageContext.from_defaults(persist_dir=\"./storage\")\n",
    "    index = load_index_from_storage(storage_context)\n",
    "\n",
    "# either way we can now query the index\n",
    "query_engine = index.as_query_engine()\n",
    "response = query_engine.query(\" ما هي الوثائق اللازمة من أجل المشاركة في الصفقات العمومية\")\n",
    "print(response)"
   ]
  }
 ],
 "metadata": {
  "kernelspec": {
   "display_name": "base",
   "language": "python",
   "name": "python3"
  },
  "language_info": {
   "codemirror_mode": {
    "name": "ipython",
    "version": 3
   },
   "file_extension": ".py",
   "mimetype": "text/x-python",
   "name": "python",
   "nbconvert_exporter": "python",
   "pygments_lexer": "ipython3",
   "version": "3.11.5"
  }
 },
 "nbformat": 4,
 "nbformat_minor": 2
}
