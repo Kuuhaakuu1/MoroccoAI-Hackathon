{
 "cells": [
  {
   "cell_type": "code",
   "execution_count": 1,
   "metadata": {},
   "outputs": [],
   "source": [
    "import requests\n",
    "from bs4 import BeautifulSoup\n",
    "from selenium import webdriver\n",
    "from selenium.webdriver.common.by import By\n",
    "from selenium.webdriver.support.ui import WebDriverWait\n",
    "from selenium.webdriver.support import expected_conditions as EC"
   ]
  },
  {
   "cell_type": "code",
   "execution_count": 2,
   "metadata": {},
   "outputs": [],
   "source": [
    "url_list = [\"https://www.idarati.ma/informationnel/ar/thematique/f098d7d4-2268-4f82-b23f-d742deb398c2/97f3970e-ce36-4f3c-a45c-6ba42ab1f46e\",\n",
    "            \"https://www.idarati.ma/informationnel/ar/thematique/f098d7d4-2268-4f82-b23f-d742deb398c2/2db5b721-b4c4-4e5c-b724-909eab57ca40\"]"
   ]
  },
  {
   "cell_type": "code",
   "execution_count": 3,
   "metadata": {},
   "outputs": [],
   "source": [
    "options = webdriver.ChromeOptions()\n",
    "options.add_argument('--headless')  # Run in headless mode, without a visible browser window\n",
    "options.add_argument('--disable-gpu')\n",
    "driver = webdriver.Chrome(options=options)"
   ]
  },
  {
   "cell_type": "code",
   "execution_count": 4,
   "metadata": {},
   "outputs": [
    {
     "ename": "TimeoutException",
     "evalue": "Message: timeout: Timed out receiving message from renderer: 297.125\n  (Session info: chrome-headless-shell=120.0.6099.71)\nStacktrace:\n\tGetHandleVerifier [0x00007FF6CB924D02+56194]\n\t(No symbol) [0x00007FF6CB8904B2]\n\t(No symbol) [0x00007FF6CB7376AA]\n\t(No symbol) [0x00007FF6CB720839]\n\t(No symbol) [0x00007FF6CB7206EB]\n\t(No symbol) [0x00007FF6CB71EE3D]\n\t(No symbol) [0x00007FF6CB71F7CE]\n\t(No symbol) [0x00007FF6CB72D6CD]\n\t(No symbol) [0x00007FF6CB744471]\n\t(No symbol) [0x00007FF6CB74937A]\n\t(No symbol) [0x00007FF6CB71FEC6]\n\t(No symbol) [0x00007FF6CB7441CF]\n\t(No symbol) [0x00007FF6CB7C297F]\n\t(No symbol) [0x00007FF6CB7A5C23]\n\t(No symbol) [0x00007FF6CB774A45]\n\t(No symbol) [0x00007FF6CB775AD4]\n\tGetHandleVerifier [0x00007FF6CBC9D5BB+3695675]\n\tGetHandleVerifier [0x00007FF6CBCF6197+4059159]\n\tGetHandleVerifier [0x00007FF6CBCEDF63+4025827]\n\tGetHandleVerifier [0x00007FF6CB9BF029+687785]\n\t(No symbol) [0x00007FF6CB89B508]\n\t(No symbol) [0x00007FF6CB897564]\n\t(No symbol) [0x00007FF6CB8976E9]\n\t(No symbol) [0x00007FF6CB888094]\n\tBaseThreadInitThunk [0x00007FF863A2257D+29]\n\tRtlUserThreadStart [0x00007FF864CAAA58+40]\n",
     "output_type": "error",
     "traceback": [
      "\u001b[1;31m---------------------------------------------------------------------------\u001b[0m",
      "\u001b[1;31mTimeoutException\u001b[0m                          Traceback (most recent call last)",
      "\u001b[1;32md:\\MoroccanAI\\Hackathon1\\Scrap\\ScrapTest.ipynb Cell 4\u001b[0m line \u001b[0;36m1\n\u001b[1;32m----> <a href='vscode-notebook-cell:/d%3A/MoroccanAI/Hackathon1/Scrap/ScrapTest.ipynb#W3sZmlsZQ%3D%3D?line=0'>1</a>\u001b[0m driver\u001b[39m.\u001b[39mget(url_list[\u001b[39m0\u001b[39m])\n\u001b[0;32m      <a href='vscode-notebook-cell:/d%3A/MoroccanAI/Hackathon1/Scrap/ScrapTest.ipynb#W3sZmlsZQ%3D%3D?line=1'>2</a>\u001b[0m WebDriverWait(driver, \u001b[39m10\u001b[39m)\u001b[39m.\u001b[39muntil(\n\u001b[0;32m      <a href='vscode-notebook-cell:/d%3A/MoroccanAI/Hackathon1/Scrap/ScrapTest.ipynb#W3sZmlsZQ%3D%3D?line=2'>3</a>\u001b[0m     EC\u001b[39m.\u001b[39mpresence_of_element_located((By\u001b[39m.\u001b[39mXPATH, \u001b[39m\"\u001b[39m\u001b[39m//h1[@class=\u001b[39m\u001b[39m'\u001b[39m\u001b[39msc-eWVKcp fMRhjG\u001b[39m\u001b[39m'\u001b[39m\u001b[39m]\u001b[39m\u001b[39m\"\u001b[39m))\n\u001b[0;32m      <a href='vscode-notebook-cell:/d%3A/MoroccanAI/Hackathon1/Scrap/ScrapTest.ipynb#W3sZmlsZQ%3D%3D?line=3'>4</a>\u001b[0m )\n\u001b[0;32m      <a href='vscode-notebook-cell:/d%3A/MoroccanAI/Hackathon1/Scrap/ScrapTest.ipynb#W3sZmlsZQ%3D%3D?line=4'>5</a>\u001b[0m content \u001b[39m=\u001b[39m driver\u001b[39m.\u001b[39mpage_source\n",
      "File \u001b[1;32md:\\Anaconda\\Lib\\site-packages\\selenium\\webdriver\\remote\\webdriver.py:357\u001b[0m, in \u001b[0;36mWebDriver.get\u001b[1;34m(self, url)\u001b[0m\n\u001b[0;32m    355\u001b[0m \u001b[39mdef\u001b[39;00m \u001b[39mget\u001b[39m(\u001b[39mself\u001b[39m, url: \u001b[39mstr\u001b[39m) \u001b[39m-\u001b[39m\u001b[39m>\u001b[39m \u001b[39mNone\u001b[39;00m:\n\u001b[0;32m    356\u001b[0m \u001b[39m    \u001b[39m\u001b[39m\"\"\"Loads a web page in the current browser session.\"\"\"\u001b[39;00m\n\u001b[1;32m--> 357\u001b[0m     \u001b[39mself\u001b[39m\u001b[39m.\u001b[39mexecute(Command\u001b[39m.\u001b[39mGET, {\u001b[39m\"\u001b[39m\u001b[39murl\u001b[39m\u001b[39m\"\u001b[39m: url})\n",
      "File \u001b[1;32md:\\Anaconda\\Lib\\site-packages\\selenium\\webdriver\\remote\\webdriver.py:348\u001b[0m, in \u001b[0;36mWebDriver.execute\u001b[1;34m(self, driver_command, params)\u001b[0m\n\u001b[0;32m    346\u001b[0m response \u001b[39m=\u001b[39m \u001b[39mself\u001b[39m\u001b[39m.\u001b[39mcommand_executor\u001b[39m.\u001b[39mexecute(driver_command, params)\n\u001b[0;32m    347\u001b[0m \u001b[39mif\u001b[39;00m response:\n\u001b[1;32m--> 348\u001b[0m     \u001b[39mself\u001b[39m\u001b[39m.\u001b[39merror_handler\u001b[39m.\u001b[39mcheck_response(response)\n\u001b[0;32m    349\u001b[0m     response[\u001b[39m\"\u001b[39m\u001b[39mvalue\u001b[39m\u001b[39m\"\u001b[39m] \u001b[39m=\u001b[39m \u001b[39mself\u001b[39m\u001b[39m.\u001b[39m_unwrap_value(response\u001b[39m.\u001b[39mget(\u001b[39m\"\u001b[39m\u001b[39mvalue\u001b[39m\u001b[39m\"\u001b[39m, \u001b[39mNone\u001b[39;00m))\n\u001b[0;32m    350\u001b[0m     \u001b[39mreturn\u001b[39;00m response\n",
      "File \u001b[1;32md:\\Anaconda\\Lib\\site-packages\\selenium\\webdriver\\remote\\errorhandler.py:229\u001b[0m, in \u001b[0;36mErrorHandler.check_response\u001b[1;34m(self, response)\u001b[0m\n\u001b[0;32m    227\u001b[0m         alert_text \u001b[39m=\u001b[39m value[\u001b[39m\"\u001b[39m\u001b[39malert\u001b[39m\u001b[39m\"\u001b[39m]\u001b[39m.\u001b[39mget(\u001b[39m\"\u001b[39m\u001b[39mtext\u001b[39m\u001b[39m\"\u001b[39m)\n\u001b[0;32m    228\u001b[0m     \u001b[39mraise\u001b[39;00m exception_class(message, screen, stacktrace, alert_text)  \u001b[39m# type: ignore[call-arg]  # mypy is not smart enough here\u001b[39;00m\n\u001b[1;32m--> 229\u001b[0m \u001b[39mraise\u001b[39;00m exception_class(message, screen, stacktrace)\n",
      "\u001b[1;31mTimeoutException\u001b[0m: Message: timeout: Timed out receiving message from renderer: 297.125\n  (Session info: chrome-headless-shell=120.0.6099.71)\nStacktrace:\n\tGetHandleVerifier [0x00007FF6CB924D02+56194]\n\t(No symbol) [0x00007FF6CB8904B2]\n\t(No symbol) [0x00007FF6CB7376AA]\n\t(No symbol) [0x00007FF6CB720839]\n\t(No symbol) [0x00007FF6CB7206EB]\n\t(No symbol) [0x00007FF6CB71EE3D]\n\t(No symbol) [0x00007FF6CB71F7CE]\n\t(No symbol) [0x00007FF6CB72D6CD]\n\t(No symbol) [0x00007FF6CB744471]\n\t(No symbol) [0x00007FF6CB74937A]\n\t(No symbol) [0x00007FF6CB71FEC6]\n\t(No symbol) [0x00007FF6CB7441CF]\n\t(No symbol) [0x00007FF6CB7C297F]\n\t(No symbol) [0x00007FF6CB7A5C23]\n\t(No symbol) [0x00007FF6CB774A45]\n\t(No symbol) [0x00007FF6CB775AD4]\n\tGetHandleVerifier [0x00007FF6CBC9D5BB+3695675]\n\tGetHandleVerifier [0x00007FF6CBCF6197+4059159]\n\tGetHandleVerifier [0x00007FF6CBCEDF63+4025827]\n\tGetHandleVerifier [0x00007FF6CB9BF029+687785]\n\t(No symbol) [0x00007FF6CB89B508]\n\t(No symbol) [0x00007FF6CB897564]\n\t(No symbol) [0x00007FF6CB8976E9]\n\t(No symbol) [0x00007FF6CB888094]\n\tBaseThreadInitThunk [0x00007FF863A2257D+29]\n\tRtlUserThreadStart [0x00007FF864CAAA58+40]\n"
     ]
    }
   ],
   "source": [
    "driver.get(url_list[0])\n",
    "WebDriverWait(driver, 10).until(\n",
    "    EC.presence_of_element_located((By.XPATH, \"//h1[@class='sc-eWVKcp fMRhjG']\"))\n",
    ")\n",
    "content = driver.page_source\n",
    "soup = BeautifulSoup(content, 'html.parser')\n",
    "driver.quit()"
   ]
  },
  {
   "cell_type": "code",
   "execution_count": null,
   "metadata": {},
   "outputs": [],
   "source": [
    "print(soup.prettify())"
   ]
  },
  {
   "cell_type": "code",
   "execution_count": null,
   "metadata": {},
   "outputs": [],
   "source": [
    "\n",
    "title = soup.find('h1', class_='sc-eWVKcp fMRhjG')\n",
    "print(title)"
   ]
  },
  {
   "cell_type": "code",
   "execution_count": null,
   "metadata": {},
   "outputs": [],
   "source": [
    "print(title.text)\n",
    "text_output = open(\"D:\\MoroccanAI\\Hackathon1\\المقاولة والأعمال\\الصفقات العمومية\\\\\" + title.text + \".txt\", \"a\",encoding=\"utf-8\")"
   ]
  },
  {
   "cell_type": "code",
   "execution_count": null,
   "metadata": {},
   "outputs": [],
   "source": [
    "meta_content = soup.find('meta', {'name': 'keywords'})\n",
    "\n",
    "# Get the content and keywords attributes\n",
    "content = meta_content.get('content', '')\n",
    "keywords = content.split(', ')\n",
    "\n",
    "print(\"Content:\", content)\n",
    "print(\"Keywords:\", keywords)\n",
    "\n",
    "text_output.write(title.text + \"\\n\")\n",
    "text_output.write(\"Content: \" + content + \"\\n\")\n",
    "text_output.write(\"Keywords: \" + str(keywords) + \"\\n\")"
   ]
  },
  {
   "cell_type": "code",
   "execution_count": null,
   "metadata": {},
   "outputs": [],
   "source": [
    "\n",
    "administrationType = soup.find('h3', class_='sc-iGctRS egEZgc')\n",
    "print(administrationType.text)\n",
    "\n",
    "text_output.write(\"نوع الإدارة: \" + administrationType.text + \"\\n\")"
   ]
  },
  {
   "cell_type": "code",
   "execution_count": null,
   "metadata": {},
   "outputs": [],
   "source": [
    "\n",
    "resume = soup.find('p', class_='sc-dwcuIR hBmVMu')\n",
    "print(resume.text)\n",
    "\n",
    "text_output.write(\"ملخص: \" + resume.text + \"\\n\")"
   ]
  },
  {
   "cell_type": "code",
   "execution_count": null,
   "metadata": {},
   "outputs": [],
   "source": [
    "necessaryDocuments = soup.findAll('span', class_='sc-iWFSnp kIZzT')\n",
    "\n",
    "print(necessaryDocuments[0].text)\n",
    "text_output.write(\"الوثائق اللازمة: \")\n",
    "for i in range(len(necessaryDocuments)):\n",
    "    text_output.write(necessaryDocuments[i].text + \", \")\n",
    "text_output.write(\"\\n\")"
   ]
  },
  {
   "cell_type": "code",
   "execution_count": null,
   "metadata": {},
   "outputs": [],
   "source": [
    "target_divs = soup.findAll('div', class_='sc-jtHMlw kQYoxi')\n",
    "\n",
    "# Iterate through each target div\n",
    "for target_div in target_divs:\n",
    "    \n",
    "    smallTitle = target_div.find('div', class_='sc-eltcbb eQzHCE')\n",
    "    # Find the div with the class \"sc-iIEYCM dQOubi\" within the current target_div\n",
    "    inner_divv = target_div.find('div', class_='sc-kmASHI kIRTbX')\n",
    "\n",
    "    # Find all divs with the class \"sc-fmlJLJ eyMhHH\" within the inner_div\n",
    "    inner_divs = inner_divv.findAll('div', class_='sc-fmlJLJ eyMhHH')\n",
    "    print(\"Title : \" + smallTitle.text)\n",
    "    text_output.write(smallTitle.text + \" : \")\n",
    "    if(len(inner_divs) > 0):\n",
    "        for i in range(len(inner_divs)):\n",
    "            print(\"Content : \" + inner_divs[i].text )\n",
    "            text_output.write(inner_divs[i].text + \", \")\n",
    "        text_output.write(\"\\n\")\n",
    "    else:\n",
    "        print(\"Content : \" + inner_divv.text )\n",
    "        text_output.write(inner_divv.text + \", \\n\")\n"
   ]
  },
  {
   "cell_type": "code",
   "execution_count": 5,
   "metadata": {},
   "outputs": [
    {
     "name": "stdout",
     "output_type": "stream",
     "text": [
      "hy\n"
     ]
    }
   ],
   "source": [
    "import time\n",
    "\n",
    "time.sleep(15)\n",
    "print(\"hy\")\n"
   ]
  }
 ],
 "metadata": {
  "kernelspec": {
   "display_name": "base",
   "language": "python",
   "name": "python3"
  },
  "language_info": {
   "codemirror_mode": {
    "name": "ipython",
    "version": 3
   },
   "file_extension": ".py",
   "mimetype": "text/x-python",
   "name": "python",
   "nbconvert_exporter": "python",
   "pygments_lexer": "ipython3",
   "version": "3.11.5"
  }
 },
 "nbformat": 4,
 "nbformat_minor": 2
}
