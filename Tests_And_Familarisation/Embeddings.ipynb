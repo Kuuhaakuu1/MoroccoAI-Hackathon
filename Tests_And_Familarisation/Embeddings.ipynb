{
 "cells": [
  {
   "cell_type": "markdown",
   "metadata": {},
   "source": [
    "# Embeddings : "
   ]
  },
  {
   "cell_type": "code",
   "execution_count": 9,
   "metadata": {},
   "outputs": [
    {
     "name": "stderr",
     "output_type": "stream",
     "text": [
      "default model on embed will be deprecated in the future, please specify a model in the request.\n"
     ]
    },
    {
     "name": "stdout",
     "output_type": "stream",
     "text": [
      "4096\n"
     ]
    }
   ],
   "source": [
    "import os\n",
    "import cohere\n",
    "import numpy as np\n",
    "\n",
    "key = os.environ.get('COHERE_API_KEY')\n",
    "co = cohere.Client(key)\n",
    "\n",
    "# get the embeddings\n",
    "phrases = [\"i love soup\", \"soup is my favorite\", \"london is far away\"]\n",
    "(soup1, soup2, london) = co.embed(phrases).embeddings\n",
    "print(len(soup1))\n",
    "# compare them\n",
    "def calculate_similarity(a, b):\n",
    "  return np.dot(a, b) / (np.linalg.norm(a) * np.linalg.norm(b))\n",
    "\n",
    "# print(calculate_similarity(soup1, soup2)) # 0.9 - very similar!\n",
    "# print(calculate_similarity(soup1, london)) # 0.3 - not similar!\n"
   ]
  }
 ],
 "metadata": {
  "kernelspec": {
   "display_name": "base",
   "language": "python",
   "name": "python3"
  },
  "language_info": {
   "codemirror_mode": {
    "name": "ipython",
    "version": 3
   },
   "file_extension": ".py",
   "mimetype": "text/x-python",
   "name": "python",
   "nbconvert_exporter": "python",
   "pygments_lexer": "ipython3",
   "version": "3.11.5"
  }
 },
 "nbformat": 4,
 "nbformat_minor": 2
}
